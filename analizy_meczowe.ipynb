{
 "cells": [
  {
   "cell_type": "code",
   "execution_count": 1,
   "id": "2b7e1714",
   "metadata": {},
   "outputs": [],
   "source": [
    "import pandas as pd\n",
    "import numpy as np\n",
    "from matplotlib import pyplot as plt"
   ]
  },
  {
   "cell_type": "code",
   "execution_count": 36,
   "id": "1e0708db",
   "metadata": {},
   "outputs": [],
   "source": [
    "import bs4\n",
    "import requests\n",
    "import json\n",
    "\n",
    "adresy_stron = ['https://www.betclic.pl/pilka-nozna-s1/premier-league-c3',\n",
    "                'https://www.betclic.pl/pilka-nozna-s1/la-liga-c7',\n",
    "               'https://www.betclic.pl/pilka-nozna-s1/bundesliga-c5',\n",
    "               'https://www.betclic.pl/pilka-nozna-s1/serie-a-c6',\n",
    "               'https://www.betclic.pl/pilka-nozna-s1/ligue-1-c4']\n",
    "\n",
    "adresy_plikow = ['premier_league.json', 'la-liga.json', 'bundesliga.json', 'serie-a.json', 'ligue-1.json']\n",
    "\n",
    "for adres in adresy_stron:\n",
    "    \n",
    "    res = requests.get(adres)\n",
    "    res.raise_for_status()\n",
    "    stronka = bs4.BeautifulSoup(res.text, 'html.parser')\n",
    "\n",
    "    divy = stronka.find_all(\"div\", {'class': 'scoreboard_contestantLabel'}) #drużyny\n",
    "    spany = stronka.find_all(\"span\", {'class': 'oddValue'}) #kursy\n",
    "\n",
    "    def prepare_data():\n",
    "        \"\"\"Przygotowywanie danych\"\"\"\n",
    "        mecze=list()\n",
    "        kursy=list()\n",
    "        dictionary_for_data = dict() #słownik na dane do DATAFRAME!!!\n",
    "        \n",
    "        for i in range(len(divy)):\n",
    "            mecze.append(divy[i].get_text().strip()) #wczytanie nazw drużyn do listy\n",
    "\n",
    "        for i in range(0,len(spany),6): #po to żeby mieć tylko kursy na zwycięstwa gospodarzy lub gości\n",
    "            kursy.append(spany[i].get_text().strip().replace(',', '.')) #wczytanie kursów do listy\n",
    "            kursy.append(spany[i+2].get_text().strip().replace(',', '.'))\n",
    "    \n",
    "        for mecz in mecze:\n",
    "            if mecz not in dictionary_for_data:\n",
    "                dictionary_for_data[mecz] = ([kursy[0]])\n",
    "            elif mecz in dictionary_for_data:\n",
    "                dictionary_for_data[mecz].append(kursy[0])\n",
    "            del kursy[0]\n",
    "        del mecze #przyda się jak będę inne ligi analizował\n",
    "    \n",
    "        with open(adresy_plikow[0], 'w') as f:\n",
    "            json.dump(dictionary_for_data, f)\n",
    "        del adresy_plikow[0]\n",
    "        del dictionary_for_data\n",
    "    prepare_data()"
   ]
  },
  {
   "cell_type": "code",
   "execution_count": 37,
   "id": "be98718c",
   "metadata": {},
   "outputs": [],
   "source": [
    "df = pd.read_json('la-liga.json', orient='index')"
   ]
  },
  {
   "cell_type": "code",
   "execution_count": 38,
   "id": "8835fda3",
   "metadata": {},
   "outputs": [],
   "source": [
    "df.rename(columns={0: 'Mecz_1', 1: 'Mecz_2', 2: 'Mecz_3'}, inplace=True)"
   ]
  },
  {
   "cell_type": "code",
   "execution_count": 39,
   "id": "1e7505e3",
   "metadata": {},
   "outputs": [],
   "source": [
    "df.fillna(0, inplace=True)"
   ]
  },
  {
   "cell_type": "code",
   "execution_count": 40,
   "id": "7ef9ea47",
   "metadata": {},
   "outputs": [],
   "source": [
    "kursy_1 = []\n",
    "[kursy_1.append(float(mecz)) for mecz in df['Mecz_1']]\n",
    "df['Mecz_1'] = kursy_1"
   ]
  },
  {
   "cell_type": "code",
   "execution_count": 41,
   "id": "63d8e0b1",
   "metadata": {},
   "outputs": [],
   "source": [
    "kursy_2 = list()\n",
    "[kursy_2.append(float(mecz)) for mecz in df['Mecz_2']]\n",
    "df['Mecz_2'] = kursy_2"
   ]
  },
  {
   "cell_type": "code",
   "execution_count": 42,
   "id": "923ffde3",
   "metadata": {},
   "outputs": [
    {
     "ename": "KeyError",
     "evalue": "'Mecz_3'",
     "output_type": "error",
     "traceback": [
      "\u001b[1;31m---------------------------------------------------------------------------\u001b[0m",
      "\u001b[1;31mKeyError\u001b[0m                                  Traceback (most recent call last)",
      "\u001b[1;32mE:\\anaconda\\lib\\site-packages\\pandas\\core\\indexes\\base.py\u001b[0m in \u001b[0;36mget_loc\u001b[1;34m(self, key, method, tolerance)\u001b[0m\n\u001b[0;32m   3360\u001b[0m             \u001b[1;32mtry\u001b[0m\u001b[1;33m:\u001b[0m\u001b[1;33m\u001b[0m\u001b[1;33m\u001b[0m\u001b[0m\n\u001b[1;32m-> 3361\u001b[1;33m                 \u001b[1;32mreturn\u001b[0m \u001b[0mself\u001b[0m\u001b[1;33m.\u001b[0m\u001b[0m_engine\u001b[0m\u001b[1;33m.\u001b[0m\u001b[0mget_loc\u001b[0m\u001b[1;33m(\u001b[0m\u001b[0mcasted_key\u001b[0m\u001b[1;33m)\u001b[0m\u001b[1;33m\u001b[0m\u001b[1;33m\u001b[0m\u001b[0m\n\u001b[0m\u001b[0;32m   3362\u001b[0m             \u001b[1;32mexcept\u001b[0m \u001b[0mKeyError\u001b[0m \u001b[1;32mas\u001b[0m \u001b[0merr\u001b[0m\u001b[1;33m:\u001b[0m\u001b[1;33m\u001b[0m\u001b[1;33m\u001b[0m\u001b[0m\n",
      "\u001b[1;32mE:\\anaconda\\lib\\site-packages\\pandas\\_libs\\index.pyx\u001b[0m in \u001b[0;36mpandas._libs.index.IndexEngine.get_loc\u001b[1;34m()\u001b[0m\n",
      "\u001b[1;32mE:\\anaconda\\lib\\site-packages\\pandas\\_libs\\index.pyx\u001b[0m in \u001b[0;36mpandas._libs.index.IndexEngine.get_loc\u001b[1;34m()\u001b[0m\n",
      "\u001b[1;32mpandas\\_libs\\hashtable_class_helper.pxi\u001b[0m in \u001b[0;36mpandas._libs.hashtable.PyObjectHashTable.get_item\u001b[1;34m()\u001b[0m\n",
      "\u001b[1;32mpandas\\_libs\\hashtable_class_helper.pxi\u001b[0m in \u001b[0;36mpandas._libs.hashtable.PyObjectHashTable.get_item\u001b[1;34m()\u001b[0m\n",
      "\u001b[1;31mKeyError\u001b[0m: 'Mecz_3'",
      "\nThe above exception was the direct cause of the following exception:\n",
      "\u001b[1;31mKeyError\u001b[0m                                  Traceback (most recent call last)",
      "\u001b[1;32m~\\AppData\\Local\\Temp/ipykernel_9436/451321299.py\u001b[0m in \u001b[0;36m<module>\u001b[1;34m\u001b[0m\n\u001b[0;32m      1\u001b[0m \u001b[0mkursy_3\u001b[0m \u001b[1;33m=\u001b[0m \u001b[0mlist\u001b[0m\u001b[1;33m(\u001b[0m\u001b[1;33m)\u001b[0m\u001b[1;33m\u001b[0m\u001b[1;33m\u001b[0m\u001b[0m\n\u001b[1;32m----> 2\u001b[1;33m \u001b[1;33m[\u001b[0m\u001b[0mkursy_3\u001b[0m\u001b[1;33m.\u001b[0m\u001b[0mappend\u001b[0m\u001b[1;33m(\u001b[0m\u001b[0mfloat\u001b[0m\u001b[1;33m(\u001b[0m\u001b[0mmecz\u001b[0m\u001b[1;33m)\u001b[0m\u001b[1;33m)\u001b[0m \u001b[1;32mfor\u001b[0m \u001b[0mmecz\u001b[0m \u001b[1;32min\u001b[0m \u001b[0mdf\u001b[0m\u001b[1;33m[\u001b[0m\u001b[1;34m'Mecz_3'\u001b[0m\u001b[1;33m]\u001b[0m\u001b[1;33m]\u001b[0m\u001b[1;33m\u001b[0m\u001b[1;33m\u001b[0m\u001b[0m\n\u001b[0m\u001b[0;32m      3\u001b[0m \u001b[0mdf\u001b[0m\u001b[1;33m[\u001b[0m\u001b[1;34m'Mecz_3'\u001b[0m\u001b[1;33m]\u001b[0m \u001b[1;33m=\u001b[0m \u001b[0mkursy_3\u001b[0m\u001b[1;33m\u001b[0m\u001b[1;33m\u001b[0m\u001b[0m\n",
      "\u001b[1;32mE:\\anaconda\\lib\\site-packages\\pandas\\core\\frame.py\u001b[0m in \u001b[0;36m__getitem__\u001b[1;34m(self, key)\u001b[0m\n\u001b[0;32m   3456\u001b[0m             \u001b[1;32mif\u001b[0m \u001b[0mself\u001b[0m\u001b[1;33m.\u001b[0m\u001b[0mcolumns\u001b[0m\u001b[1;33m.\u001b[0m\u001b[0mnlevels\u001b[0m \u001b[1;33m>\u001b[0m \u001b[1;36m1\u001b[0m\u001b[1;33m:\u001b[0m\u001b[1;33m\u001b[0m\u001b[1;33m\u001b[0m\u001b[0m\n\u001b[0;32m   3457\u001b[0m                 \u001b[1;32mreturn\u001b[0m \u001b[0mself\u001b[0m\u001b[1;33m.\u001b[0m\u001b[0m_getitem_multilevel\u001b[0m\u001b[1;33m(\u001b[0m\u001b[0mkey\u001b[0m\u001b[1;33m)\u001b[0m\u001b[1;33m\u001b[0m\u001b[1;33m\u001b[0m\u001b[0m\n\u001b[1;32m-> 3458\u001b[1;33m             \u001b[0mindexer\u001b[0m \u001b[1;33m=\u001b[0m \u001b[0mself\u001b[0m\u001b[1;33m.\u001b[0m\u001b[0mcolumns\u001b[0m\u001b[1;33m.\u001b[0m\u001b[0mget_loc\u001b[0m\u001b[1;33m(\u001b[0m\u001b[0mkey\u001b[0m\u001b[1;33m)\u001b[0m\u001b[1;33m\u001b[0m\u001b[1;33m\u001b[0m\u001b[0m\n\u001b[0m\u001b[0;32m   3459\u001b[0m             \u001b[1;32mif\u001b[0m \u001b[0mis_integer\u001b[0m\u001b[1;33m(\u001b[0m\u001b[0mindexer\u001b[0m\u001b[1;33m)\u001b[0m\u001b[1;33m:\u001b[0m\u001b[1;33m\u001b[0m\u001b[1;33m\u001b[0m\u001b[0m\n\u001b[0;32m   3460\u001b[0m                 \u001b[0mindexer\u001b[0m \u001b[1;33m=\u001b[0m \u001b[1;33m[\u001b[0m\u001b[0mindexer\u001b[0m\u001b[1;33m]\u001b[0m\u001b[1;33m\u001b[0m\u001b[1;33m\u001b[0m\u001b[0m\n",
      "\u001b[1;32mE:\\anaconda\\lib\\site-packages\\pandas\\core\\indexes\\base.py\u001b[0m in \u001b[0;36mget_loc\u001b[1;34m(self, key, method, tolerance)\u001b[0m\n\u001b[0;32m   3361\u001b[0m                 \u001b[1;32mreturn\u001b[0m \u001b[0mself\u001b[0m\u001b[1;33m.\u001b[0m\u001b[0m_engine\u001b[0m\u001b[1;33m.\u001b[0m\u001b[0mget_loc\u001b[0m\u001b[1;33m(\u001b[0m\u001b[0mcasted_key\u001b[0m\u001b[1;33m)\u001b[0m\u001b[1;33m\u001b[0m\u001b[1;33m\u001b[0m\u001b[0m\n\u001b[0;32m   3362\u001b[0m             \u001b[1;32mexcept\u001b[0m \u001b[0mKeyError\u001b[0m \u001b[1;32mas\u001b[0m \u001b[0merr\u001b[0m\u001b[1;33m:\u001b[0m\u001b[1;33m\u001b[0m\u001b[1;33m\u001b[0m\u001b[0m\n\u001b[1;32m-> 3363\u001b[1;33m                 \u001b[1;32mraise\u001b[0m \u001b[0mKeyError\u001b[0m\u001b[1;33m(\u001b[0m\u001b[0mkey\u001b[0m\u001b[1;33m)\u001b[0m \u001b[1;32mfrom\u001b[0m \u001b[0merr\u001b[0m\u001b[1;33m\u001b[0m\u001b[1;33m\u001b[0m\u001b[0m\n\u001b[0m\u001b[0;32m   3364\u001b[0m \u001b[1;33m\u001b[0m\u001b[0m\n\u001b[0;32m   3365\u001b[0m         \u001b[1;32mif\u001b[0m \u001b[0mis_scalar\u001b[0m\u001b[1;33m(\u001b[0m\u001b[0mkey\u001b[0m\u001b[1;33m)\u001b[0m \u001b[1;32mand\u001b[0m \u001b[0misna\u001b[0m\u001b[1;33m(\u001b[0m\u001b[0mkey\u001b[0m\u001b[1;33m)\u001b[0m \u001b[1;32mand\u001b[0m \u001b[1;32mnot\u001b[0m \u001b[0mself\u001b[0m\u001b[1;33m.\u001b[0m\u001b[0mhasnans\u001b[0m\u001b[1;33m:\u001b[0m\u001b[1;33m\u001b[0m\u001b[1;33m\u001b[0m\u001b[0m\n",
      "\u001b[1;31mKeyError\u001b[0m: 'Mecz_3'"
     ]
    }
   ],
   "source": [
    "kursy_3 = list()\n",
    "[kursy_3.append(float(mecz)) for mecz in df['Mecz_3']]\n",
    "df['Mecz_3'] = kursy_3"
   ]
  },
  {
   "cell_type": "code",
   "execution_count": 44,
   "id": "07d363c1",
   "metadata": {},
   "outputs": [],
   "source": [
    "df = df.transpose()"
   ]
  },
  {
   "cell_type": "code",
   "execution_count": 20,
   "id": "f966b6c5",
   "metadata": {},
   "outputs": [],
   "source": [
    "manchestery = df[['Manchester Utd','Manchester City']]"
   ]
  },
  {
   "cell_type": "code",
   "execution_count": 21,
   "id": "4d1c9f75",
   "metadata": {},
   "outputs": [
    {
     "data": {
      "text/plain": [
       "array([<AxesSubplot:>, <AxesSubplot:>], dtype=object)"
      ]
     },
     "execution_count": 21,
     "metadata": {},
     "output_type": "execute_result"
    },
    {
     "data": {
      "image/png": "[encoded data removed]",
      "text/plain": [
       "<Figure size 432x288 with 2 Axes>"
      ]
     },
     "metadata": {
      "needs_background": "light"
     },
     "output_type": "display_data"
    }
   ],
   "source": [
    "manchestery.plot(subplots=True)"
   ]
  },
  {
   "cell_type": "code",
   "execution_count": 184,
   "id": "00925594",
   "metadata": {},
   "outputs": [
    {
     "data": {
      "text/plain": [
       "0.9456676052555069"
      ]
     },
     "execution_count": 184,
     "metadata": {},
     "output_type": "execute_result"
    }
   ],
   "source": [
    "df['Manchester Utd'].corr(df['Manchester City'])"
   ]
  },
  {
   "cell_type": "code",
   "execution_count": 46,
   "id": "534e5b77",
   "metadata": {
    "scrolled": true
   },
   "outputs": [
    {
     "data": {
      "text/html": [
       "<div>\n",
       "<style scoped>\n",
       "    .dataframe tbody tr th:only-of-type {\n",
       "        vertical-align: middle;\n",
       "    }\n",
       "\n",
       "    .dataframe tbody tr th {\n",
       "        vertical-align: top;\n",
       "    }\n",
       "\n",
       "    .dataframe thead th {\n",
       "        text-align: right;\n",
       "    }\n",
       "</style>\n",
       "<table border=\"1\" class=\"dataframe\">\n",
       "  <thead>\n",
       "    <tr style=\"text-align: right;\">\n",
       "      <th></th>\n",
       "      <th>Sevilla</th>\n",
       "      <th>Cádiz</th>\n",
       "      <th>Alaves</th>\n",
       "      <th>Villarreal</th>\n",
       "      <th>Real Madryt</th>\n",
       "      <th>Espanyol</th>\n",
       "      <th>Valencia</th>\n",
       "      <th>Levante</th>\n",
       "      <th>Athletic Bilbao</th>\n",
       "      <th>Atletico Madryt</th>\n",
       "      <th>Elche</th>\n",
       "      <th>Osasuna</th>\n",
       "      <th>Granada</th>\n",
       "      <th>Celta Vigo</th>\n",
       "      <th>Rayo Vallecano</th>\n",
       "      <th>Real Sociedad</th>\n",
       "      <th>Barcelona</th>\n",
       "      <th>Mallorca</th>\n",
       "      <th>Getafe</th>\n",
       "      <th>Betis</th>\n",
       "    </tr>\n",
       "  </thead>\n",
       "  <tbody>\n",
       "    <tr>\n",
       "      <th>Mecz_1</th>\n",
       "      <td>1.59</td>\n",
       "      <td>6.20</td>\n",
       "      <td>3.45</td>\n",
       "      <td>2.15</td>\n",
       "      <td>1.50</td>\n",
       "      <td>6.0</td>\n",
       "      <td>2.29</td>\n",
       "      <td>3.05</td>\n",
       "      <td>3.00</td>\n",
       "      <td>2.55</td>\n",
       "      <td>2.85</td>\n",
       "      <td>2.60</td>\n",
       "      <td>2.75</td>\n",
       "      <td>2.70</td>\n",
       "      <td>3.15</td>\n",
       "      <td>2.43</td>\n",
       "      <td>1.36</td>\n",
       "      <td>8.00</td>\n",
       "      <td>2.75</td>\n",
       "      <td>2.75</td>\n",
       "    </tr>\n",
       "    <tr>\n",
       "      <th>Mecz_2</th>\n",
       "      <td>3.15</td>\n",
       "      <td>1.99</td>\n",
       "      <td>4.90</td>\n",
       "      <td>2.35</td>\n",
       "      <td>2.75</td>\n",
       "      <td>2.6</td>\n",
       "      <td>4.80</td>\n",
       "      <td>3.20</td>\n",
       "      <td>1.75</td>\n",
       "      <td>2.60</td>\n",
       "      <td>4.00</td>\n",
       "      <td>2.85</td>\n",
       "      <td>3.90</td>\n",
       "      <td>1.76</td>\n",
       "      <td>3.75</td>\n",
       "      <td>2.25</td>\n",
       "      <td>2.11</td>\n",
       "      <td>1.98</td>\n",
       "      <td>2.18</td>\n",
       "      <td>3.40</td>\n",
       "    </tr>\n",
       "  </tbody>\n",
       "</table>\n",
       "</div>"
      ],
      "text/plain": [
       "        Sevilla  Cádiz  Alaves  Villarreal  Real Madryt  Espanyol  Valencia  \\\n",
       "Mecz_1     1.59   6.20    3.45        2.15         1.50       6.0      2.29   \n",
       "Mecz_2     3.15   1.99    4.90        2.35         2.75       2.6      4.80   \n",
       "\n",
       "        Levante  Athletic Bilbao  Atletico Madryt  Elche  Osasuna  Granada  \\\n",
       "Mecz_1     3.05             3.00             2.55   2.85     2.60     2.75   \n",
       "Mecz_2     3.20             1.75             2.60   4.00     2.85     3.90   \n",
       "\n",
       "        Celta Vigo  Rayo Vallecano  Real Sociedad  Barcelona  Mallorca  \\\n",
       "Mecz_1        2.70            3.15           2.43       1.36      8.00   \n",
       "Mecz_2        1.76            3.75           2.25       2.11      1.98   \n",
       "\n",
       "        Getafe  Betis  \n",
       "Mecz_1    2.75   2.75  \n",
       "Mecz_2    2.18   3.40  "
      ]
     },
     "execution_count": 46,
     "metadata": {},
     "output_type": "execute_result"
    }
   ],
   "source": [
    "df"
   ]
  },
  {
   "cell_type": "code",
   "execution_count": null,
   "id": "e9b36450",
   "metadata": {},
   "outputs": [],
   "source": []
  }
 ],
 "metadata": {
  "kernelspec": {
   "display_name": "Python 3 (ipykernel)",
   "language": "python",
   "name": "python3"
  },
  "language_info": {
   "codemirror_mode": {
    "name": "ipython",
    "version": 3
   },
   "file_extension": ".py",
   "mimetype": "text/x-python",
   "name": "python",
   "nbconvert_exporter": "python",
   "pygments_lexer": "ipython3",
   "version": "3.9.7"
  }
 },
 "nbformat": 4,
 "nbformat_minor": 5
}
