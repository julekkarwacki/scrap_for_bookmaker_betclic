{
 "cells": [
  {
   "cell_type": "code",
   "execution_count": 1,
   "id": "2b7e1714",
   "metadata": {},
   "outputs": [],
   "source": [
    "import pandas as pd\n",
    "import numpy as np\n",
    "from matplotlib import pyplot as plt"
   ]
  },
  {
   "cell_type": "code",
   "execution_count": 36,
   "id": "1e0708db",
   "metadata": {},
   "outputs": [],
   "source": [
    "import bs4\n",
    "import requests\n",
    "import json\n",
    "\n",
    "adresy_stron = ['https://www.betclic.pl/pilka-nozna-s1/premier-league-c3',\n",
    "                'https://www.betclic.pl/pilka-nozna-s1/la-liga-c7',\n",
    "               'https://www.betclic.pl/pilka-nozna-s1/bundesliga-c5',\n",
    "               'https://www.betclic.pl/pilka-nozna-s1/serie-a-c6',\n",
    "               'https://www.betclic.pl/pilka-nozna-s1/ligue-1-c4']\n",
    "\n",
    "adresy_plikow = ['premier_league.json', 'la-liga.json', 'bundesliga.json', 'serie-a.json', 'ligue-1.json']\n",
    "\n",
    "for adres in adresy_stron:\n",
    "    \n",
    "    res = requests.get(adres)\n",
    "    res.raise_for_status()\n",
    "    stronka = bs4.BeautifulSoup(res.text, 'html.parser')\n",
    "\n",
    "    divy = stronka.find_all(\"div\", {'class': 'scoreboard_contestantLabel'}) #drużyny\n",
    "    spany = stronka.find_all(\"span\", {'class': 'oddValue'}) #kursy\n",
    "\n",
    "    def prepare_data():\n",
    "        \"\"\"Przygotowywanie danych\"\"\"\n",
    "        mecze=list()\n",
    "        kursy=list()\n",
    "        dictionary_for_data = dict() #słownik na dane do DATAFRAME!!!\n",
    "        \n",
    "        for i in range(len(divy)):\n",
    "            mecze.append(divy[i].get_text().strip()) #wczytanie nazw drużyn do listy\n",
    "\n",
    "        for i in range(0,len(spany),6): #po to żeby mieć tylko kursy na zwycięstwa gospodarzy lub gości\n",
    "            kursy.append(spany[i].get_text().strip().replace(',', '.')) #wczytanie kursów do listy\n",
    "            kursy.append(spany[i+2].get_text().strip().replace(',', '.'))\n",
    "    \n",
    "        for mecz in mecze:\n",
    "            if mecz not in dictionary_for_data:\n",
    "                dictionary_for_data[mecz] = ([kursy[0]])\n",
    "            elif mecz in dictionary_for_data:\n",
    "                dictionary_for_data[mecz].append(kursy[0])\n",
    "            del kursy[0]\n",
    "        del mecze #przyda się jak będę inne ligi analizował\n",
    "    \n",
    "        with open(adresy_plikow[0], 'w') as f:\n",
    "            json.dump(dictionary_for_data, f)\n",
    "        del adresy_plikow[0]\n",
    "        del dictionary_for_data\n",
    "    prepare_data()"
   ]
  },
  {
   "cell_type": "code",
   "execution_count": 3,
   "id": "be98718c",
   "metadata": {},
   "outputs": [],
   "source": [
    "df = pd.read_json('premier_league.json', orient='index')"
   ]
  },
  {
   "cell_type": "code",
   "execution_count": 4,
   "id": "8835fda3",
   "metadata": {},
   "outputs": [],
   "source": [
    "df.rename(columns={0: 'Mecz_1', 1: 'Mecz_2', 2: 'Mecz_3'}, inplace=True)"
   ]
  },
  {
   "cell_type": "code",
   "execution_count": 5,
   "id": "1e7505e3",
   "metadata": {},
   "outputs": [],
   "source": [
    "df.fillna(0, inplace=True)"
   ]
  },
  {
   "cell_type": "code",
   "execution_count": 6,
   "id": "7ef9ea47",
   "metadata": {},
   "outputs": [],
   "source": [
    "kursy_1 = []\n",
    "[kursy_1.append(float(mecz)) for mecz in df['Mecz_1']]\n",
    "df['Mecz_1'] = kursy_1"
   ]
  },
  {
   "cell_type": "code",
   "execution_count": 7,
   "id": "63d8e0b1",
   "metadata": {},
   "outputs": [],
   "source": [
    "kursy_2 = list()\n",
    "[kursy_2.append(float(mecz)) for mecz in df['Mecz_2']]\n",
    "df['Mecz_2'] = kursy_2"
   ]
  },
  {
   "cell_type": "code",
   "execution_count": 8,
   "id": "923ffde3",
   "metadata": {},
   "outputs": [],
   "source": [
    "kursy_3 = list()\n",
    "[kursy_3.append(float(mecz)) for mecz in df['Mecz_3']]\n",
    "df['Mecz_3'] = kursy_3"
   ]
  },
  {
   "cell_type": "code",
   "execution_count": 9,
   "id": "07d363c1",
   "metadata": {},
   "outputs": [],
   "source": [
    "to_analyze = df.transpose()"
   ]
  },
  {
   "cell_type": "code",
   "execution_count": 20,
   "id": "f966b6c5",
   "metadata": {},
   "outputs": [],
   "source": [
    "manchestery = df[['Manchester Utd','Manchester City']]"
   ]
  },
  {
   "cell_type": "code",
   "execution_count": 21,
   "id": "4d1c9f75",
   "metadata": {},
   "outputs": [
    {
     "data": {
      "text/plain": [
       "array([<AxesSubplot:>, <AxesSubplot:>], dtype=object)"
      ]
     },
     "execution_count": 21,
     "metadata": {},
     "output_type": "execute_result"
    },
    {
     "data": {
      "image/png": "[encoded data removed]",
      "text/plain": [
       "<Figure size 432x288 with 2 Axes>"
      ]
     },
     "metadata": {
      "needs_background": "light"
     },
     "output_type": "display_data"
    }
   ],
   "source": [
    "manchestery.plot(subplots=True)"
   ]
  },
  {
   "cell_type": "code",
   "execution_count": 184,
   "id": "00925594",
   "metadata": {},
   "outputs": [
    {
     "data": {
      "text/plain": [
       "0.9456676052555069"
      ]
     },
     "execution_count": 184,
     "metadata": {},
     "output_type": "execute_result"
    }
   ],
   "source": [
    "df['Manchester Utd'].corr(df['Manchester City'])"
   ]
  },
  {
   "cell_type": "code",
   "execution_count": 10,
   "id": "534e5b77",
   "metadata": {
    "scrolled": true
   },
   "outputs": [
    {
     "data": {
      "text/html": [
       "<div>\n",
       "<style scoped>\n",
       "    .dataframe tbody tr th:only-of-type {\n",
       "        vertical-align: middle;\n",
       "    }\n",
       "\n",
       "    .dataframe tbody tr th {\n",
       "        vertical-align: top;\n",
       "    }\n",
       "\n",
       "    .dataframe thead th {\n",
       "        text-align: right;\n",
       "    }\n",
       "</style>\n",
       "<table border=\"1\" class=\"dataframe\">\n",
       "  <thead>\n",
       "    <tr style=\"text-align: right;\">\n",
       "      <th></th>\n",
       "      <th>Mecz_1</th>\n",
       "      <th>Mecz_2</th>\n",
       "      <th>Mecz_3</th>\n",
       "    </tr>\n",
       "  </thead>\n",
       "  <tbody>\n",
       "    <tr>\n",
       "      <th>Manchester Utd</th>\n",
       "      <td>3.25</td>\n",
       "      <td>1.75</td>\n",
       "      <td>2.28</td>\n",
       "    </tr>\n",
       "    <tr>\n",
       "      <th>Chelsea</th>\n",
       "      <td>2.24</td>\n",
       "      <td>1.77</td>\n",
       "      <td>1.37</td>\n",
       "    </tr>\n",
       "    <tr>\n",
       "      <th>Newcastle</th>\n",
       "      <td>7.00</td>\n",
       "      <td>0.00</td>\n",
       "      <td>0.00</td>\n",
       "    </tr>\n",
       "    <tr>\n",
       "      <th>Liverpool</th>\n",
       "      <td>1.43</td>\n",
       "      <td>1.43</td>\n",
       "      <td>0.00</td>\n",
       "    </tr>\n",
       "    <tr>\n",
       "      <th>Aston Villa</th>\n",
       "      <td>1.40</td>\n",
       "      <td>2.30</td>\n",
       "      <td>0.00</td>\n",
       "    </tr>\n",
       "    <tr>\n",
       "      <th>Norwich City</th>\n",
       "      <td>7.40</td>\n",
       "      <td>4.40</td>\n",
       "      <td>0.00</td>\n",
       "    </tr>\n",
       "    <tr>\n",
       "      <th>Wolverhampton</th>\n",
       "      <td>2.70</td>\n",
       "      <td>8.80</td>\n",
       "      <td>0.00</td>\n",
       "    </tr>\n",
       "    <tr>\n",
       "      <th>Brighton</th>\n",
       "      <td>2.80</td>\n",
       "      <td>3.20</td>\n",
       "      <td>0.00</td>\n",
       "    </tr>\n",
       "    <tr>\n",
       "      <th>Watford</th>\n",
       "      <td>2.65</td>\n",
       "      <td>4.70</td>\n",
       "      <td>0.00</td>\n",
       "    </tr>\n",
       "    <tr>\n",
       "      <th>Burnley</th>\n",
       "      <td>2.70</td>\n",
       "      <td>3.15</td>\n",
       "      <td>0.00</td>\n",
       "    </tr>\n",
       "    <tr>\n",
       "      <th>Southampton</th>\n",
       "      <td>2.38</td>\n",
       "      <td>2.90</td>\n",
       "      <td>0.00</td>\n",
       "    </tr>\n",
       "    <tr>\n",
       "      <th>Crystal Palace</th>\n",
       "      <td>3.00</td>\n",
       "      <td>1.75</td>\n",
       "      <td>0.00</td>\n",
       "    </tr>\n",
       "    <tr>\n",
       "      <th>Leeds</th>\n",
       "      <td>8.60</td>\n",
       "      <td>6.20</td>\n",
       "      <td>0.00</td>\n",
       "    </tr>\n",
       "    <tr>\n",
       "      <th>Manchester City</th>\n",
       "      <td>1.31</td>\n",
       "      <td>0.00</td>\n",
       "      <td>0.00</td>\n",
       "    </tr>\n",
       "    <tr>\n",
       "      <th>Everton</th>\n",
       "      <td>4.70</td>\n",
       "      <td>3.35</td>\n",
       "      <td>0.00</td>\n",
       "    </tr>\n",
       "    <tr>\n",
       "      <th>Tottenham</th>\n",
       "      <td>1.47</td>\n",
       "      <td>6.60</td>\n",
       "      <td>0.00</td>\n",
       "    </tr>\n",
       "    <tr>\n",
       "      <th>Leicester</th>\n",
       "      <td>6.20</td>\n",
       "      <td>2.22</td>\n",
       "      <td>0.00</td>\n",
       "    </tr>\n",
       "    <tr>\n",
       "      <th>West Ham</th>\n",
       "      <td>4.30</td>\n",
       "      <td>1.82</td>\n",
       "      <td>0.00</td>\n",
       "    </tr>\n",
       "    <tr>\n",
       "      <th>Arsenal</th>\n",
       "      <td>1.80</td>\n",
       "      <td>1.47</td>\n",
       "      <td>0.00</td>\n",
       "    </tr>\n",
       "    <tr>\n",
       "      <th>Brentford</th>\n",
       "      <td>4.50</td>\n",
       "      <td>2.40</td>\n",
       "      <td>0.00</td>\n",
       "    </tr>\n",
       "  </tbody>\n",
       "</table>\n",
       "</div>"
      ],
      "text/plain": [
       "                 Mecz_1  Mecz_2  Mecz_3\n",
       "Manchester Utd     3.25    1.75    2.28\n",
       "Chelsea            2.24    1.77    1.37\n",
       "Newcastle          7.00    0.00    0.00\n",
       "Liverpool          1.43    1.43    0.00\n",
       "Aston Villa        1.40    2.30    0.00\n",
       "Norwich City       7.40    4.40    0.00\n",
       "Wolverhampton      2.70    8.80    0.00\n",
       "Brighton           2.80    3.20    0.00\n",
       "Watford            2.65    4.70    0.00\n",
       "Burnley            2.70    3.15    0.00\n",
       "Southampton        2.38    2.90    0.00\n",
       "Crystal Palace     3.00    1.75    0.00\n",
       "Leeds              8.60    6.20    0.00\n",
       "Manchester City    1.31    0.00    0.00\n",
       "Everton            4.70    3.35    0.00\n",
       "Tottenham          1.47    6.60    0.00\n",
       "Leicester          6.20    2.22    0.00\n",
       "West Ham           4.30    1.82    0.00\n",
       "Arsenal            1.80    1.47    0.00\n",
       "Brentford          4.50    2.40    0.00"
      ]
     },
     "execution_count": 10,
     "metadata": {},
     "output_type": "execute_result"
    }
   ],
   "source": [
    "df"
   ]
  },
  {
   "cell_type": "code",
   "execution_count": 11,
   "id": "e9b36450",
   "metadata": {},
   "outputs": [
    {
     "data": {
      "text/html": [
       "<div>\n",
       "<style scoped>\n",
       "    .dataframe tbody tr th:only-of-type {\n",
       "        vertical-align: middle;\n",
       "    }\n",
       "\n",
       "    .dataframe tbody tr th {\n",
       "        vertical-align: top;\n",
       "    }\n",
       "\n",
       "    .dataframe thead th {\n",
       "        text-align: right;\n",
       "    }\n",
       "</style>\n",
       "<table border=\"1\" class=\"dataframe\">\n",
       "  <thead>\n",
       "    <tr style=\"text-align: right;\">\n",
       "      <th></th>\n",
       "      <th>Manchester Utd</th>\n",
       "      <th>Chelsea</th>\n",
       "      <th>Newcastle</th>\n",
       "      <th>Liverpool</th>\n",
       "      <th>Aston Villa</th>\n",
       "      <th>Norwich City</th>\n",
       "      <th>Wolverhampton</th>\n",
       "      <th>Brighton</th>\n",
       "      <th>Watford</th>\n",
       "      <th>Burnley</th>\n",
       "      <th>Southampton</th>\n",
       "      <th>Crystal Palace</th>\n",
       "      <th>Leeds</th>\n",
       "      <th>Manchester City</th>\n",
       "      <th>Everton</th>\n",
       "      <th>Tottenham</th>\n",
       "      <th>Leicester</th>\n",
       "      <th>West Ham</th>\n",
       "      <th>Arsenal</th>\n",
       "      <th>Brentford</th>\n",
       "    </tr>\n",
       "  </thead>\n",
       "  <tbody>\n",
       "    <tr>\n",
       "      <th>Mecz_1</th>\n",
       "      <td>3.25</td>\n",
       "      <td>2.24</td>\n",
       "      <td>7.0</td>\n",
       "      <td>1.43</td>\n",
       "      <td>1.4</td>\n",
       "      <td>7.4</td>\n",
       "      <td>2.7</td>\n",
       "      <td>2.8</td>\n",
       "      <td>2.65</td>\n",
       "      <td>2.70</td>\n",
       "      <td>2.38</td>\n",
       "      <td>3.00</td>\n",
       "      <td>8.6</td>\n",
       "      <td>1.31</td>\n",
       "      <td>4.70</td>\n",
       "      <td>1.47</td>\n",
       "      <td>6.20</td>\n",
       "      <td>4.30</td>\n",
       "      <td>1.80</td>\n",
       "      <td>4.5</td>\n",
       "    </tr>\n",
       "    <tr>\n",
       "      <th>Mecz_2</th>\n",
       "      <td>1.75</td>\n",
       "      <td>1.77</td>\n",
       "      <td>0.0</td>\n",
       "      <td>1.43</td>\n",
       "      <td>2.3</td>\n",
       "      <td>4.4</td>\n",
       "      <td>8.8</td>\n",
       "      <td>3.2</td>\n",
       "      <td>4.70</td>\n",
       "      <td>3.15</td>\n",
       "      <td>2.90</td>\n",
       "      <td>1.75</td>\n",
       "      <td>6.2</td>\n",
       "      <td>0.00</td>\n",
       "      <td>3.35</td>\n",
       "      <td>6.60</td>\n",
       "      <td>2.22</td>\n",
       "      <td>1.82</td>\n",
       "      <td>1.47</td>\n",
       "      <td>2.4</td>\n",
       "    </tr>\n",
       "    <tr>\n",
       "      <th>Mecz_3</th>\n",
       "      <td>2.28</td>\n",
       "      <td>1.37</td>\n",
       "      <td>0.0</td>\n",
       "      <td>0.00</td>\n",
       "      <td>0.0</td>\n",
       "      <td>0.0</td>\n",
       "      <td>0.0</td>\n",
       "      <td>0.0</td>\n",
       "      <td>0.00</td>\n",
       "      <td>0.00</td>\n",
       "      <td>0.00</td>\n",
       "      <td>0.00</td>\n",
       "      <td>0.0</td>\n",
       "      <td>0.00</td>\n",
       "      <td>0.00</td>\n",
       "      <td>0.00</td>\n",
       "      <td>0.00</td>\n",
       "      <td>0.00</td>\n",
       "      <td>0.00</td>\n",
       "      <td>0.0</td>\n",
       "    </tr>\n",
       "  </tbody>\n",
       "</table>\n",
       "</div>"
      ],
      "text/plain": [
       "        Manchester Utd  Chelsea  Newcastle  Liverpool  Aston Villa  \\\n",
       "Mecz_1            3.25     2.24        7.0       1.43          1.4   \n",
       "Mecz_2            1.75     1.77        0.0       1.43          2.3   \n",
       "Mecz_3            2.28     1.37        0.0       0.00          0.0   \n",
       "\n",
       "        Norwich City  Wolverhampton  Brighton  Watford  Burnley  Southampton  \\\n",
       "Mecz_1           7.4            2.7       2.8     2.65     2.70         2.38   \n",
       "Mecz_2           4.4            8.8       3.2     4.70     3.15         2.90   \n",
       "Mecz_3           0.0            0.0       0.0     0.00     0.00         0.00   \n",
       "\n",
       "        Crystal Palace  Leeds  Manchester City  Everton  Tottenham  Leicester  \\\n",
       "Mecz_1            3.00    8.6             1.31     4.70       1.47       6.20   \n",
       "Mecz_2            1.75    6.2             0.00     3.35       6.60       2.22   \n",
       "Mecz_3            0.00    0.0             0.00     0.00       0.00       0.00   \n",
       "\n",
       "        West Ham  Arsenal  Brentford  \n",
       "Mecz_1      4.30     1.80        4.5  \n",
       "Mecz_2      1.82     1.47        2.4  \n",
       "Mecz_3      0.00     0.00        0.0  "
      ]
     },
     "execution_count": 11,
     "metadata": {},
     "output_type": "execute_result"
    }
   ],
   "source": [
    "to_analyze"
   ]
  }
 ],
 "metadata": {
  "kernelspec": {
   "display_name": "Python 3 (ipykernel)",
   "language": "python",
   "name": "python3"
  },
  "language_info": {
   "codemirror_mode": {
    "name": "ipython",
    "version": 3
   },
   "file_extension": ".py",
   "mimetype": "text/x-python",
   "name": "python",
   "nbconvert_exporter": "python",
   "pygments_lexer": "ipython3",
   "version": "3.9.7"
  }
 },
 "nbformat": 4,
 "nbformat_minor": 5
}
